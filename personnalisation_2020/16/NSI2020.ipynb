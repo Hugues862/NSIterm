{
 "cells": [
  {
   "cell_type": "code",
   "execution_count": 3,
   "metadata": {
    "hide_input": true,
    "hide_output": true,
    "init_cell": true,
    "run_control": {
     "marked": false
    }
   },
   "outputs": [
    {
     "ename": "ModuleNotFoundError",
     "evalue": "No module named 'masquer'",
     "output_type": "error",
     "traceback": [
      "\u001b[0;31m---------------------------------------------------------------------------\u001b[0m",
      "\u001b[0;31mModuleNotFoundError\u001b[0m                       Traceback (most recent call last)",
      "\u001b[0;32m<ipython-input-3-7894d36b3d29>\u001b[0m in \u001b[0;36m<module>\u001b[0;34m\u001b[0m\n\u001b[1;32m      1\u001b[0m \u001b[0;31m# Permet de tout executer au lancement du notebook + conserver le notebook actif pendant 2h\u001b[0m\u001b[0;34m\u001b[0m\u001b[0;34m\u001b[0m\u001b[0;34m\u001b[0m\u001b[0m\n\u001b[1;32m      2\u001b[0m \u001b[0;32mfrom\u001b[0m \u001b[0mIPython\u001b[0m\u001b[0;34m.\u001b[0m\u001b[0mdisplay\u001b[0m \u001b[0;32mimport\u001b[0m \u001b[0mJavascript\u001b[0m\u001b[0;34m\u001b[0m\u001b[0;34m\u001b[0m\u001b[0m\n\u001b[0;32m----> 3\u001b[0;31m \u001b[0;32mfrom\u001b[0m \u001b[0mmasquer\u001b[0m \u001b[0;32mimport\u001b[0m \u001b[0;34m*\u001b[0m\u001b[0;34m\u001b[0m\u001b[0;34m\u001b[0m\u001b[0m\n\u001b[0m\u001b[1;32m      4\u001b[0m Javascript(\"\"\"\n\u001b[1;32m      5\u001b[0m function repeter(){\n",
      "\u001b[0;31mModuleNotFoundError\u001b[0m: No module named 'masquer'"
     ]
    }
   ],
   "source": [
    "# Permet de tout executer au lancement du notebook + conserver le notebook actif pendant 2h\n",
    "from IPython.display import Javascript\n",
    "from masquer import *\n",
    "Javascript(\"\"\"\n",
    "function repeter(){\n",
    "IPython.notebook.kernel.execute(\"a=1\");\n",
    "}\n",
    "// execute a = 1 en python toutes les 8 minutes pendant 2h\n",
    "let timerId = setInterval(() => repeter(), 4800);\n",
    "setTimeout(() => { clearInterval(timerId); alert('fin de cession'); }, 7200000);\n",
    "\n",
    "// Supprimer la taille limite pour la sortie d'une cellule\n",
    "IPython.OutputArea.prototype._should_scroll = function(lines) {\n",
    "    return false;\n",
    "};\n",
    "IPython.notebook.kernel.execute(\"url = '\" + window.location + \"'\");\n",
    "\n",
    "// Exécuter toutes les cellule du notebook\n",
    "    require(\n",
    "        ['base/js/namespace', 'jquery'], \n",
    "        function(jupyter, $) {\n",
    "            \n",
    "                \n",
    "                jupyter.actions.call('jupyter-notebook:run-all-cells-below');\n",
    "                jupyter.actions.call('jupyter-notebook:save-notebook');\n",
    "                Jupyter.actions.call('jupyter-notebook:hide-header')\n",
    "\n",
    "        }\n",
    "    );\"\"\")"
   ]
  },
  {
   "cell_type": "markdown",
   "metadata": {
    "run_control": {
     "marked": true
    }
   },
   "source": [
    "# NSI 2020"
   ]
  },
  {
   "cell_type": "markdown",
   "metadata": {},
   "source": [
    "### Exercice 1 | Les Piles:"
   ]
  },
  {
   "cell_type": "code",
   "execution_count": null,
   "metadata": {},
   "outputs": [],
   "source": [
    "#Question 1\n",
    "def newStack():\n",
    "    '''\n",
    "    fonction qui retourne une liste vide []\n",
    "    '''\n",
    "    return []\n",
    "    \n",
    "def push(s, x):\n",
    "    '''\n",
    "    fonction qui ajoute x a la liste s\n",
    "    '''\n",
    "    assert type(s) == list, \"variable pile is not a <list>\"\n",
    "    s.append(x)\n",
    "\n",
    "def pop(s):\n",
    "    '''\n",
    "    fonction qui supprime l'element au dessus de la pile et qui la retourne\n",
    "    '''\n",
    "    assert type(s) == list, \"variable pile is not a <list>\"\n",
    "    return s.pop(-1)\n",
    "\n",
    "def isEmpty(s):\n",
    "    '''\n",
    "    fonction qui verifie si la liste est vide\n",
    "    '''\n",
    "    assert type(s) == list, \"variable pile is not a <list>\"\n",
    "    return s == []"
   ]
  },
  {
   "cell_type": "code",
   "execution_count": null,
   "metadata": {},
   "outputs": [],
   "source": [
    "#Question 2\n",
    "def retourne(pile):\n",
    "    '''\n",
    "    fonction qui retourne une liste inversé, [1,2,3] ==> [3,2,1]\n",
    "    '''\n",
    "    assert type(pile) == list, \"variable pile is not a <list>\"\n",
    "    res = newStack()\n",
    "    while not isEmpty(pile):\n",
    "        push(res, pop(pile))\n",
    "    return res"
   ]
  },
  {
   "cell_type": "code",
   "execution_count": null,
   "metadata": {},
   "outputs": [],
   "source": [
    "p = newStack()\n",
    "p.extend((1,2,3,4,5,6)) #raccourci pour push(p,1),push(p,2),etc...\n",
    "print(p)\n",
    "\n",
    "retourne(p) # on retourne bien la liste inversé"
   ]
  },
  {
   "cell_type": "markdown",
   "metadata": {},
   "source": [
    "### Exercice 2 | Recurcivité"
   ]
  },
  {
   "cell_type": "code",
   "execution_count": null,
   "metadata": {},
   "outputs": [],
   "source": [
    "#Question 3\n",
    "def fact_rec(n, val=1):\n",
    "    '''\n",
    "    fonction rcurcive terminale qui renvoie le factoriel de n, equivalent n!\n",
    "    '''\n",
    "    assert type(n) == int, 'n doit être un <int>'\n",
    "    \n",
    "    if n == 0:\n",
    "        return val*1\n",
    "    else:\n",
    "        val *= n\n",
    "        return fact_rec(n-1,val)"
   ]
  },
  {
   "cell_type": "code",
   "execution_count": null,
   "metadata": {},
   "outputs": [],
   "source": [
    "fact_rec(5)"
   ]
  },
  {
   "cell_type": "code",
   "execution_count": null,
   "metadata": {},
   "outputs": [],
   "source": [
    "#Question 4\n",
    "def fact_iter(n):\n",
    "    '''\n",
    "    fonction iterative qui renvoie le factoriel de n, equivalent n!\n",
    "    '''\n",
    "    assert type(n) == int, 'n doit être un <int>'\n",
    "    res = 1\n",
    "    while n > 0:\n",
    "        res*=n\n",
    "        n+=-1\n",
    "    return res"
   ]
  },
  {
   "cell_type": "code",
   "execution_count": null,
   "metadata": {},
   "outputs": [],
   "source": [
    "fact_iter(5)"
   ]
  },
  {
   "cell_type": "markdown",
   "metadata": {},
   "source": [
    "### Exercice 3 | Le tri boustrophédon"
   ]
  },
  {
   "cell_type": "markdown",
   "metadata": {},
   "source": [
    "#Question 5\n",
    "- la commande print(redescendre([5,4,3,2,1])) renvoie: [1, 5, 4, 3, 2]"
   ]
  },
  {
   "cell_type": "code",
   "execution_count": 4,
   "metadata": {
    "slideshow": {
     "slide_type": "subslide"
    }
   },
   "outputs": [
    {
     "data": {
      "text/plain": [
       "[2, 5, 4, 3, 1]"
      ]
     },
     "execution_count": 4,
     "metadata": {},
     "output_type": "execute_result"
    }
   ],
   "source": [
    "def redescendre(L):\n",
    "    for j in range(len(L)-1, 0, -1):\n",
    "        if L[j] < L[j-1]:\n",
    "            L[j], L[j-1] = L[j-1], L[j]\n",
    "    return(L)\n",
    "\n",
    "def redescendre2(L):\n",
    "    for j in range(len(L)-1, -1, -1):\n",
    "        if L[j] < L[j-1]:\n",
    "            L[j], L[j-1] = L[j-1], L[j]\n",
    "    return(L)\n",
    "\n",
    "\n",
    "'''\n",
    "L = [2,1,3,0]\n",
    "while 1:\n",
    "    L = redescendre(L) \n",
    "\n",
    "print(L)\n",
    "'''\n",
    "redescendre2([5,4,3,2,1])"
   ]
  },
  {
   "cell_type": "markdown",
   "metadata": {},
   "source": [
    "#Question 6\n",
    "- L'algorithme redescendre2 ne va pas trier la liste alors que la boucle infinie while va elle trier la liste"
   ]
  },
  {
   "cell_type": "code",
   "execution_count": 5,
   "metadata": {},
   "outputs": [
    {
     "name": "stdout",
     "output_type": "stream",
     "text": [
      "[1, 2, 3, 4, 5]\n"
     ]
    }
   ],
   "source": [
    "#Question 7\n",
    "def trier(L):\n",
    "    for i in range(len(L) - 1):\n",
    "        L = redescendre(L)\n",
    "    print(L)\n",
    "\n",
    "trier([5,4,3,2,1])\n",
    "#La commande va renvoyer la liste trié"
   ]
  },
  {
   "cell_type": "code",
   "execution_count": 16,
   "metadata": {},
   "outputs": [
    {
     "name": "stdout",
     "output_type": "stream",
     "text": [
      "[5, 4, 3, 2, 1] 4\n",
      "[5, 4, 3, 1, 2] 3\n",
      "[5, 4, 1, 3, 2] 2\n",
      "[5, 1, 4, 3, 2] 1\n",
      "[1, 5, 4, 3, 2] [5, 4, 3, 2, 1]\n",
      "[1, 5, 4, 3, 2] 4\n",
      "[1, 5, 4, 2, 3] 3\n",
      "[1, 5, 2, 4, 3] 2\n",
      "[1, 2, 5, 4, 3] 1\n",
      "[1, 2, 5, 4, 3] [1, 5, 4, 3, 2]\n",
      "[1, 2, 5, 4, 3] 4\n",
      "[1, 2, 5, 3, 4] 3\n",
      "[1, 2, 3, 5, 4] 2\n",
      "[1, 2, 3, 5, 4] 1\n",
      "[1, 2, 3, 5, 4] [1, 2, 5, 4, 3]\n",
      "[1, 2, 3, 5, 4] 4\n",
      "[1, 2, 3, 4, 5] 3\n",
      "[1, 2, 3, 4, 5] 2\n",
      "[1, 2, 3, 4, 5] 1\n",
      "[1, 2, 3, 4, 5] [1, 2, 3, 5, 4]\n",
      "[1, 2, 3, 4, 5] 4\n",
      "[1, 2, 3, 4, 5] 3\n",
      "[1, 2, 3, 4, 5] 2\n",
      "[1, 2, 3, 4, 5] 1\n",
      "[1, 2, 3, 4, 5] [1, 2, 3, 4, 5]\n"
     ]
    },
    {
     "data": {
      "text/plain": [
       "[1, 2, 3, 4, 5]"
      ]
     },
     "execution_count": 16,
     "metadata": {},
     "output_type": "execute_result"
    }
   ],
   "source": [
    "#Question 8\n",
    "def redescendre(L, gauche):\n",
    "    for j in range(len(L)-1, 0, -1):\n",
    "        print(L, j)\n",
    "        if L[j] < L[j-1]:\n",
    "            L[j], L[j-1] = L[j-1], L[j]\n",
    "    return L, gauche+=1\n",
    "\n",
    "def trier(L):\n",
    "    gauche = 0\n",
    "    while gauche < len(L):\n",
    "        L, gauche = redescendre(L, gauche)\n",
    "    return(L)\n",
    "\n",
    "trier([5,4,3,2,1])\n",
    "\n",
    "\n",
    "NOT FINISHED"
   ]
  },
  {
   "cell_type": "code",
   "execution_count": null,
   "metadata": {},
   "outputs": [],
   "source": []
  },
  {
   "cell_type": "code",
   "execution_count": null,
   "metadata": {},
   "outputs": [],
   "source": []
  },
  {
   "cell_type": "code",
   "execution_count": null,
   "metadata": {},
   "outputs": [],
   "source": []
  },
  {
   "cell_type": "code",
   "execution_count": null,
   "metadata": {},
   "outputs": [],
   "source": []
  },
  {
   "cell_type": "code",
   "execution_count": null,
   "metadata": {},
   "outputs": [],
   "source": []
  },
  {
   "cell_type": "code",
   "execution_count": null,
   "metadata": {},
   "outputs": [],
   "source": []
  },
  {
   "cell_type": "code",
   "execution_count": null,
   "metadata": {},
   "outputs": [],
   "source": []
  },
  {
   "cell_type": "code",
   "execution_count": null,
   "metadata": {},
   "outputs": [],
   "source": []
  },
  {
   "cell_type": "code",
   "execution_count": null,
   "metadata": {},
   "outputs": [],
   "source": []
  }
 ],
 "metadata": {
  "celltoolbar": "None",
  "kernelspec": {
   "display_name": "Python 3",
   "language": "python",
   "name": "python3"
  },
  "language_info": {
   "codemirror_mode": {
    "name": "ipython",
    "version": 3
   },
   "file_extension": ".py",
   "mimetype": "text/x-python",
   "name": "python",
   "nbconvert_exporter": "python",
   "pygments_lexer": "ipython3",
   "version": "3.7.8"
  },
  "varInspector": {
   "cols": {
    "lenName": 16,
    "lenType": 16,
    "lenVar": 40
   },
   "kernels_config": {
    "python": {
     "delete_cmd_postfix": "",
     "delete_cmd_prefix": "del ",
     "library": "var_list.py",
     "varRefreshCmd": "print(var_dic_list())"
    },
    "r": {
     "delete_cmd_postfix": ") ",
     "delete_cmd_prefix": "rm(",
     "library": "var_list.r",
     "varRefreshCmd": "cat(var_dic_list()) "
    }
   },
   "types_to_exclude": [
    "module",
    "function",
    "builtin_function_or_method",
    "instance",
    "_Feature"
   ],
   "window_display": false
  }
 },
 "nbformat": 4,
 "nbformat_minor": 4
}
