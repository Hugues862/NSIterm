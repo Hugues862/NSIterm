{
 "cells": [
  {
   "cell_type": "code",
   "execution_count": 2,
   "metadata": {
    "hide_input": true,
    "hide_output": true,
    "init_cell": true,
    "run_control": {
     "marked": false
    }
   },
   "outputs": [
    {
     "data": {
      "application/javascript": [
       "\n",
       "function repeter(){\n",
       "IPython.notebook.kernel.execute(\"a=1\");\n",
       "}\n",
       "// execute a = 1 en python toutes les 8 minutes pendant 2h\n",
       "let timerId = setInterval(() => repeter(), 4800);\n",
       "setTimeout(() => { clearInterval(timerId); alert('fin de cession'); }, 7200000);\n",
       "\n",
       "// Supprimer la taille limite pour la sortie d'une cellule\n",
       "IPython.OutputArea.prototype._should_scroll = function(lines) {\n",
       "    return false;\n",
       "};\n",
       "IPython.notebook.kernel.execute(\"url = '\" + window.location + \"'\");\n",
       "\n",
       "// Exécuter toutes les cellule du notebook\n",
       "    require(\n",
       "        ['base/js/namespace', 'jquery'], \n",
       "        function(jupyter, $) {\n",
       "            \n",
       "                \n",
       "                jupyter.actions.call('jupyter-notebook:run-all-cells-below');\n",
       "                jupyter.actions.call('jupyter-notebook:save-notebook');\n",
       "                Jupyter.actions.call('jupyter-notebook:hide-header')\n",
       "\n",
       "        }\n",
       "    );"
      ],
      "text/plain": [
       "<IPython.core.display.Javascript object>"
      ]
     },
     "execution_count": 2,
     "metadata": {},
     "output_type": "execute_result"
    }
   ],
   "source": [
    "# Permet de tout executer au lancement du notebook + conserver le notebook actif pendant 2h\n",
    "from IPython.display import Javascript\n",
    "import sys\n",
    "if \"..\" not in sys.path:\n",
    "    sys.path.append(\"..\")\n",
    "from masquer import *\n",
    "Javascript(\"\"\"\n",
    "function repeter(){\n",
    "IPython.notebook.kernel.execute(\"a=1\");\n",
    "}\n",
    "// execute a = 1 en python toutes les 8 minutes pendant 2h\n",
    "let timerId = setInterval(() => repeter(), 4800);\n",
    "setTimeout(() => { clearInterval(timerId); alert('fin de cession'); }, 7200000);\n",
    "\n",
    "// Supprimer la taille limite pour la sortie d'une cellule\n",
    "IPython.OutputArea.prototype._should_scroll = function(lines) {\n",
    "    return false;\n",
    "};\n",
    "IPython.notebook.kernel.execute(\"url = '\" + window.location + \"'\");\n",
    "\n",
    "// Exécuter toutes les cellule du notebook\n",
    "    require(\n",
    "        ['base/js/namespace', 'jquery'], \n",
    "        function(jupyter, $) {\n",
    "            \n",
    "                \n",
    "                jupyter.actions.call('jupyter-notebook:run-all-cells-below');\n",
    "                jupyter.actions.call('jupyter-notebook:save-notebook');\n",
    "                Jupyter.actions.call('jupyter-notebook:hide-header')\n",
    "\n",
    "        }\n",
    "    );\"\"\")"
   ]
  },
  {
   "cell_type": "code",
   "execution_count": 3,
   "metadata": {
    "hide_input": true,
    "hide_output": true,
    "run_control": {
     "marked": false
    }
   },
   "outputs": [
    {
     "data": {
      "text/html": [
       "<style>\n",
       "h1 {\n",
       "  font-family: 'Permanent Marker', cursive;\n",
       "  text-align: center;\n",
       "  color: red;\n",
       "  \n",
       "}\n",
       "ol {\n",
       "  list-style-position: inside;\n",
       "  margin-left: 1em;\n",
       "  list-style-position: outside;\n",
       "}\n",
       "h2 {\n",
       "  font-family: 'Permanent Marker', cursive;\n",
       "  color: blue;\n",
       "}\n",
       "h3 {\n",
       "  font-family: 'Permanent Marker', cursive;\n",
       "\n",
       "}\n",
       "</style>"
      ],
      "text/plain": [
       "<IPython.core.display.HTML object>"
      ]
     },
     "execution_count": 3,
     "metadata": {},
     "output_type": "execute_result"
    }
   ],
   "source": [
    "from IPython.core.interactiveshell import InteractiveShell\n",
    "InteractiveShell.ast_node_interactivity = \"all\"\n",
    "HTML(\"\"\"<style>\n",
    "h1 {\n",
    "  font-family: 'Permanent Marker', cursive;\n",
    "  text-align: center;\n",
    "  color: red;\n",
    "  \n",
    "}\n",
    "ol {\n",
    "  list-style-position: inside;\n",
    "  margin-left: 1em;\n",
    "  list-style-position: outside;\n",
    "}\n",
    "h2 {\n",
    "  font-family: 'Permanent Marker', cursive;\n",
    "  color: blue;\n",
    "}\n",
    "h3 {\n",
    "  font-family: 'Permanent Marker', cursive;\n",
    "\n",
    "}\n",
    "</style>\"\"\")"
   ]
  },
  {
   "cell_type": "markdown",
   "metadata": {
    "run_control": {
     "marked": false
    }
   },
   "source": [
    "# TD_08_1 - Etablir des schémas relationnels"
   ]
  },
  {
   "cell_type": "markdown",
   "metadata": {},
   "source": [
    "Ce cours est une version \"notebook\" du cours proposé par Van Zuijlen Stéphan [ici](https://isn-icn-ljm.pagesperso-orange.fr/NSI-TLE/co/section_chapitre5.html)"
   ]
  },
  {
   "cell_type": "markdown",
   "metadata": {},
   "source": [
    "## Le problème"
   ]
  },
  {
   "cell_type": "markdown",
   "metadata": {},
   "source": [
    "Un laboratoire souhaite gérer les médicaments qu'il conçoit.\n",
    "  \n",
    "* Un médicament est décrit par **un nom**, qui permet de l'identifier. En effet ***il n'existe pas deux médicaments avec le même nom***.\n",
    "  \n",
    "* Un médicament comporte une **description courte** en français, ainsi qu'**une description longue** en latin.\n",
    "  \n",
    "* On gère aussi **le conditionnement** du médicament, c'est à dire le nombre de pilules par boîte (qui est un nombre entier).\n",
    "  \n",
    "À chaque médicament on associe une liste de contre-indications, généralement plusieurs, parfois aucune.\n",
    "  \n",
    "Une contre-indication comporte un code unique qui l'identifie, ainsi qu'une description.\n",
    "  \n",
    "Une contre-indication est toujours associée à un et un seul médicament."
   ]
  },
  {
   "cell_type": "markdown",
   "metadata": {},
   "source": [
    "## Exemples de données"
   ]
  },
  {
   "cell_type": "markdown",
   "metadata": {},
   "source": [
    "Voici deux exemples de données :\n",
    "\n",
    "* Le **Chourix** a pour description courte ***Médicament contre la chute des choux*** et pour description longue ***Vivamus fermentum semper porta. Nunc diam velit, adipiscing ut tristique vitae, sagittis vel odio. Maecenas convallis ullamcorper ultricies. Curabitur ornare.*** Il est conditionné en boîte de 13.\n",
    "  Ses contre-indications sont :\n",
    "  \n",
    "  * CI1 : Ne jamais prendre après minuit.\n",
    "  \n",
    "  * CI2 : Ne jamais mettre en contact avec de l'eau.\n",
    "  \n",
    "* Le **Tropas** a pour description courte ***Médicament contre les dysfonctionnements intellectuels*** et pour description longue ***Suspendisse lectus leo, consectetur in tempor sit amet, placerat quis neque. Etiam luctus porttitor lorem, sed suscipit est rutrum non.*** Il est conditionné en boîte de 42.\n",
    "  Ses contre-indications sont :\n",
    "  \n",
    "  * CI3 : Garder à l'abri de la lumière du soleil."
   ]
  },
  {
   "cell_type": "markdown",
   "metadata": {},
   "source": [
    "### Exercice 1\n",
    "1. Donner la représentation **sous forme de tables** des relations 'MEDICAMENT' et 'CONTRE_INDICATION'\n",
    "2. Ecrire le schéma relationnel permettant de représenter une base de données pour ce laboratoire."
   ]
  },
  {
   "cell_type": "code",
   "execution_count": 37,
   "metadata": {},
   "outputs": [
    {
     "data": {
      "text/html": [
       "<div>\n",
       "<style scoped>\n",
       "    .dataframe tbody tr th:only-of-type {\n",
       "        vertical-align: middle;\n",
       "    }\n",
       "\n",
       "    .dataframe tbody tr th {\n",
       "        vertical-align: top;\n",
       "    }\n",
       "\n",
       "    .dataframe thead th {\n",
       "        text-align: right;\n",
       "    }\n",
       "</style>\n",
       "<table border=\"1\" class=\"dataframe\">\n",
       "  <thead>\n",
       "    <tr style=\"text-align: right;\">\n",
       "      <th></th>\n",
       "      <th>Nom</th>\n",
       "      <th>Description_courte</th>\n",
       "      <th>Description_Longue</th>\n",
       "      <th>conditionnement</th>\n",
       "    </tr>\n",
       "  </thead>\n",
       "  <tbody>\n",
       "    <tr>\n",
       "      <th>0</th>\n",
       "      <td>Chourix</td>\n",
       "      <td>Médicament contre la chute des choux</td>\n",
       "      <td>Vivamus fermentum semper porta. Nunc diam veli...</td>\n",
       "      <td>13</td>\n",
       "    </tr>\n",
       "    <tr>\n",
       "      <th>1</th>\n",
       "      <td>Tropas</td>\n",
       "      <td>Médicament contre les dysfonctionnements intel...</td>\n",
       "      <td>Suspendisse lectus leo, consectetur in tempor ...</td>\n",
       "      <td>42</td>\n",
       "    </tr>\n",
       "  </tbody>\n",
       "</table>\n",
       "</div>"
      ],
      "text/plain": [
       "       Nom                                 Description_courte  \\\n",
       "0  Chourix               Médicament contre la chute des choux   \n",
       "1   Tropas  Médicament contre les dysfonctionnements intel...   \n",
       "\n",
       "                                  Description_Longue   conditionnement  \n",
       "0  Vivamus fermentum semper porta. Nunc diam veli...                13  \n",
       "1  Suspendisse lectus leo, consectetur in tempor ...                42  "
      ]
     },
     "execution_count": 37,
     "metadata": {},
     "output_type": "execute_result"
    }
   ],
   "source": [
    "import pandas\n",
    "pandas.read_csv(\"bd/medicaments.csv\")"
   ]
  },
  {
   "cell_type": "code",
   "execution_count": 35,
   "metadata": {},
   "outputs": [
    {
     "data": {
      "text/html": [
       "<div>\n",
       "<style scoped>\n",
       "    .dataframe tbody tr th:only-of-type {\n",
       "        vertical-align: middle;\n",
       "    }\n",
       "\n",
       "    .dataframe tbody tr th {\n",
       "        vertical-align: top;\n",
       "    }\n",
       "\n",
       "    .dataframe thead th {\n",
       "        text-align: right;\n",
       "    }\n",
       "</style>\n",
       "<table border=\"1\" class=\"dataframe\">\n",
       "  <thead>\n",
       "    <tr style=\"text-align: right;\">\n",
       "      <th></th>\n",
       "      <th>NOM</th>\n",
       "      <th>NOM DU MEDICAMENT</th>\n",
       "      <th>DESCRIPTION</th>\n",
       "    </tr>\n",
       "  </thead>\n",
       "  <tbody>\n",
       "    <tr>\n",
       "      <th>0</th>\n",
       "      <td>CI1</td>\n",
       "      <td>Chourix</td>\n",
       "      <td>Ne jamais prendre après minuit.</td>\n",
       "    </tr>\n",
       "    <tr>\n",
       "      <th>1</th>\n",
       "      <td>CI2</td>\n",
       "      <td>Chourix</td>\n",
       "      <td>Ne jamais mettre en contact avec de l'eau.</td>\n",
       "    </tr>\n",
       "    <tr>\n",
       "      <th>2</th>\n",
       "      <td>CI3</td>\n",
       "      <td>Tropas</td>\n",
       "      <td>Garder à l'abri de la lumière du soleil.</td>\n",
       "    </tr>\n",
       "  </tbody>\n",
       "</table>\n",
       "</div>"
      ],
      "text/plain": [
       "   NOM  NOM DU MEDICAMENT                                  DESCRIPTION\n",
       "0  CI1            Chourix              Ne jamais prendre après minuit.\n",
       "1  CI2            Chourix   Ne jamais mettre en contact avec de l'eau.\n",
       "2  CI3             Tropas     Garder à l'abri de la lumière du soleil."
      ]
     },
     "execution_count": 35,
     "metadata": {},
     "output_type": "execute_result"
    }
   ],
   "source": [
    "pandas.read_csv(\"bd/contre_indications.csv\")"
   ]
  },
  {
   "cell_type": "code",
   "execution_count": 7,
   "metadata": {},
   "outputs": [
    {
     "data": {
      "text/html": [
       "\n",
       "    <script>\n",
       "        function code_toggle_888462133236364445() {\n",
       "            $('div.cell.code_cell.rendered.selected').next().find('div.inner_cell').toggle();\n",
       "        }\n",
       "\n",
       "        $('div.cell.code_cell.rendered.selected').find(\"div.input\").hide();\n",
       "    </script>\n",
       "\n",
       "    <a href=\"javascript:code_toggle_888462133236364445()\">Solution 2. </a>\n",
       "    "
      ],
      "text/plain": [
       "<IPython.core.display.HTML object>"
      ]
     },
     "execution_count": 7,
     "metadata": {},
     "output_type": "execute_result"
    }
   ],
   "source": [
    "cacher_code(\"Solution 2.\",for_markdown=True)"
   ]
  },
  {
   "cell_type": "markdown",
   "metadata": {},
   "source": [
    "MEDICAMENT (<u>nom</u> :varchar, description:varchar, description_longue:varchar, conditionnement:number)\n",
    "\n",
    "CONTRE_INDICATION( <u>code</u>:varchar, description:varchar, #id_med : number)"
   ]
  },
  {
   "cell_type": "markdown",
   "metadata": {},
   "source": [
    "### Exercice 2\n",
    "On veut créer une base de donnée permettant de gérer les clients d'un site web proposant des articles à vendre.\n",
    "\n",
    "On utilisera 3 relations CLIENTS, COMMANDES et ARTICLES.\n",
    "\n",
    "La table CLIENTS devra contenir les noms, prénoms, n° de téléphone et l'adresse des clients\n",
    "\n",
    "La table ARTICLES devra contenir les codes des articles ,leurs noms, une description et le prix des articles\n",
    "\n",
    "1. Que doit contenir la table COMMANDES ?\n",
    "2. Quelle doit être la clé primaire de la relation CLIENTS ?\n",
    "3. Quelle doit être la clé primaire de la relation ARTICLES ?\n",
    "Voici une représentation dela table COMMANDES:\n",
    "![commandes](table_commandes.png)\n",
    "4. Quelles doivent être lesclés étrangères de la table COMMANDES ?\n",
    "5. Donner la représentation sous forme de tables des relations CLIENTS, ARTICLES et COMMANDES en inventant au moins 3 clients, deux commandes et 4 articles ?\n",
    "6. Réaliser un schéma pour représenter cette base de données relationnelle."
   ]
  },
  {
   "cell_type": "code",
   "execution_count": 38,
   "metadata": {},
   "outputs": [
    {
     "data": {
      "text/html": [
       "<div>\n",
       "<style scoped>\n",
       "    .dataframe tbody tr th:only-of-type {\n",
       "        vertical-align: middle;\n",
       "    }\n",
       "\n",
       "    .dataframe tbody tr th {\n",
       "        vertical-align: top;\n",
       "    }\n",
       "\n",
       "    .dataframe thead th {\n",
       "        text-align: right;\n",
       "    }\n",
       "</style>\n",
       "<table border=\"1\" class=\"dataframe\">\n",
       "  <thead>\n",
       "    <tr style=\"text-align: right;\">\n",
       "      <th></th>\n",
       "      <th>id</th>\n",
       "      <th>nom</th>\n",
       "      <th>prenom</th>\n",
       "      <th>n_tel</th>\n",
       "      <th>adresse</th>\n",
       "    </tr>\n",
       "  </thead>\n",
       "  <tbody>\n",
       "    <tr>\n",
       "      <th>0</th>\n",
       "      <td>1</td>\n",
       "      <td>Delacroix</td>\n",
       "      <td>Pierre</td>\n",
       "      <td>1234567891</td>\n",
       "      <td>random adress</td>\n",
       "    </tr>\n",
       "    <tr>\n",
       "      <th>1</th>\n",
       "      <td>2</td>\n",
       "      <td>Delacroix</td>\n",
       "      <td>Pierre</td>\n",
       "      <td>1234567891</td>\n",
       "      <td>random adress</td>\n",
       "    </tr>\n",
       "    <tr>\n",
       "      <th>2</th>\n",
       "      <td>3</td>\n",
       "      <td>Delacroix</td>\n",
       "      <td>Pierre</td>\n",
       "      <td>1234567891</td>\n",
       "      <td>random adress</td>\n",
       "    </tr>\n",
       "  </tbody>\n",
       "</table>\n",
       "</div>"
      ],
      "text/plain": [
       "   id        nom  prenom       n_tel        adresse\n",
       "0   1  Delacroix  Pierre  1234567891  random adress\n",
       "1   2  Delacroix  Pierre  1234567891  random adress\n",
       "2   3  Delacroix  Pierre  1234567891  random adress"
      ]
     },
     "execution_count": 38,
     "metadata": {},
     "output_type": "execute_result"
    }
   ],
   "source": [
    "pandas.read_csv(\"bd/CLIENTS.csv\")"
   ]
  },
  {
   "cell_type": "code",
   "execution_count": 39,
   "metadata": {},
   "outputs": [
    {
     "data": {
      "text/html": [
       "<div>\n",
       "<style scoped>\n",
       "    .dataframe tbody tr th:only-of-type {\n",
       "        vertical-align: middle;\n",
       "    }\n",
       "\n",
       "    .dataframe tbody tr th {\n",
       "        vertical-align: top;\n",
       "    }\n",
       "\n",
       "    .dataframe thead th {\n",
       "        text-align: right;\n",
       "    }\n",
       "</style>\n",
       "<table border=\"1\" class=\"dataframe\">\n",
       "  <thead>\n",
       "    <tr style=\"text-align: right;\">\n",
       "      <th></th>\n",
       "      <th>code</th>\n",
       "      <th>nom</th>\n",
       "      <th>description</th>\n",
       "      <th>prix</th>\n",
       "    </tr>\n",
       "  </thead>\n",
       "  <tbody>\n",
       "    <tr>\n",
       "      <th>0</th>\n",
       "      <td>c1</td>\n",
       "      <td>H2344</td>\n",
       "      <td>petite description article</td>\n",
       "      <td>54</td>\n",
       "    </tr>\n",
       "  </tbody>\n",
       "</table>\n",
       "</div>"
      ],
      "text/plain": [
       "  code     nom                  description   prix\n",
       "0   c1   H2344   petite description article     54"
      ]
     },
     "execution_count": 39,
     "metadata": {},
     "output_type": "execute_result"
    }
   ],
   "source": [
    "pandas.read_csv(\"bd/ARTICLES.csv\")"
   ]
  },
  {
   "cell_type": "code",
   "execution_count": 40,
   "metadata": {},
   "outputs": [
    {
     "data": {
      "text/html": [
       "<div>\n",
       "<style scoped>\n",
       "    .dataframe tbody tr th:only-of-type {\n",
       "        vertical-align: middle;\n",
       "    }\n",
       "\n",
       "    .dataframe tbody tr th {\n",
       "        vertical-align: top;\n",
       "    }\n",
       "\n",
       "    .dataframe thead th {\n",
       "        text-align: right;\n",
       "    }\n",
       "</style>\n",
       "<table border=\"1\" class=\"dataframe\">\n",
       "  <thead>\n",
       "    <tr style=\"text-align: right;\">\n",
       "      <th></th>\n",
       "      <th>numero</th>\n",
       "      <th>#id_client</th>\n",
       "      <th>#id_article</th>\n",
       "      <th>quantité</th>\n",
       "    </tr>\n",
       "  </thead>\n",
       "  <tbody>\n",
       "    <tr>\n",
       "      <th>0</th>\n",
       "      <td>4564</td>\n",
       "      <td>12</td>\n",
       "      <td>c1</td>\n",
       "      <td>4</td>\n",
       "    </tr>\n",
       "  </tbody>\n",
       "</table>\n",
       "</div>"
      ],
      "text/plain": [
       "   numero   #id_client  #id_article   quantité\n",
       "0    4564           12           c1          4"
      ]
     },
     "execution_count": 40,
     "metadata": {},
     "output_type": "execute_result"
    }
   ],
   "source": [
    "pandas.read_csv(\"bd/COMMANDES.csv\")"
   ]
  },
  {
   "cell_type": "code",
   "execution_count": 8,
   "metadata": {
    "hide_input": false,
    "run_control": {
     "marked": true
    }
   },
   "outputs": [
    {
     "data": {
      "text/html": [
       "\n",
       "    <script>\n",
       "        function code_toggle_16573788114910232982() {\n",
       "            $('div.cell.code_cell.rendered.selected').next().find('div.inner_cell').toggle();\n",
       "        }\n",
       "\n",
       "        $('div.cell.code_cell.rendered.selected').find(\"div.input\").hide();\n",
       "    </script>\n",
       "\n",
       "    <a href=\"javascript:code_toggle_16573788114910232982()\">Solution 5. </a>\n",
       "    "
      ],
      "text/plain": [
       "<IPython.core.display.HTML object>"
      ]
     },
     "execution_count": 8,
     "metadata": {},
     "output_type": "execute_result"
    }
   ],
   "source": [
    "cacher_code(\"Solution 5.\",for_markdown=True)"
   ]
  },
  {
   "cell_type": "markdown",
   "metadata": {},
   "source": [
    "![exo2](exo2_cours8.png)"
   ]
  },
  {
   "cell_type": "code",
   "execution_count": 9,
   "metadata": {},
   "outputs": [
    {
     "data": {
      "text/html": [
       "\n",
       "    <script>\n",
       "        function code_toggle_6173167843892529692() {\n",
       "            $('div.cell.code_cell.rendered.selected').next().find('div.inner_cell').toggle();\n",
       "        }\n",
       "\n",
       "        $('div.cell.code_cell.rendered.selected').find(\"div.input\").hide();\n",
       "    </script>\n",
       "\n",
       "    <a href=\"javascript:code_toggle_6173167843892529692()\">Solution 6. </a>\n",
       "    "
      ],
      "text/plain": [
       "<IPython.core.display.HTML object>"
      ]
     },
     "execution_count": 9,
     "metadata": {},
     "output_type": "execute_result"
    }
   ],
   "source": [
    "cacher_code(\"Solution 6.\",for_markdown=True)"
   ]
  },
  {
   "cell_type": "markdown",
   "metadata": {},
   "source": [
    "![bdd2](bdd3_cours8.png)"
   ]
  }
 ],
 "metadata": {
  "celltoolbar": "None",
  "kernelspec": {
   "display_name": "Python 3",
   "language": "python",
   "name": "python3"
  },
  "language_info": {
   "codemirror_mode": {
    "name": "ipython",
    "version": 3
   },
   "file_extension": ".py",
   "mimetype": "text/x-python",
   "name": "python",
   "nbconvert_exporter": "python",
   "pygments_lexer": "ipython3",
   "version": "3.7.8"
  },
  "varInspector": {
   "cols": {
    "lenName": 16,
    "lenType": 16,
    "lenVar": 40
   },
   "kernels_config": {
    "python": {
     "delete_cmd_postfix": "",
     "delete_cmd_prefix": "del ",
     "library": "var_list.py",
     "varRefreshCmd": "print(var_dic_list())"
    },
    "r": {
     "delete_cmd_postfix": ") ",
     "delete_cmd_prefix": "rm(",
     "library": "var_list.r",
     "varRefreshCmd": "cat(var_dic_list()) "
    }
   },
   "types_to_exclude": [
    "module",
    "function",
    "builtin_function_or_method",
    "instance",
    "_Feature"
   ],
   "window_display": false
  }
 },
 "nbformat": 4,
 "nbformat_minor": 4
}
