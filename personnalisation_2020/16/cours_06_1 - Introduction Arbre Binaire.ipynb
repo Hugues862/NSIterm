{
 "cells": [
  {
   "cell_type": "code",
   "execution_count": 1,
   "metadata": {
    "hide_input": true,
    "hide_output": true,
    "init_cell": true,
    "run_control": {
     "marked": false
    }
   },
   "outputs": [
    {
     "ename": "ModuleNotFoundError",
     "evalue": "No module named 'masquer'",
     "output_type": "error",
     "traceback": [
      "\u001b[0;31m---------------------------------------------------------------------------\u001b[0m",
      "\u001b[0;31mModuleNotFoundError\u001b[0m                       Traceback (most recent call last)",
      "\u001b[0;32m<ipython-input-1-7894d36b3d29>\u001b[0m in \u001b[0;36m<module>\u001b[0;34m\u001b[0m\n\u001b[1;32m      1\u001b[0m \u001b[0;31m# Permet de tout executer au lancement du notebook + conserver le notebook actif pendant 2h\u001b[0m\u001b[0;34m\u001b[0m\u001b[0;34m\u001b[0m\u001b[0;34m\u001b[0m\u001b[0m\n\u001b[1;32m      2\u001b[0m \u001b[0;32mfrom\u001b[0m \u001b[0mIPython\u001b[0m\u001b[0;34m.\u001b[0m\u001b[0mdisplay\u001b[0m \u001b[0;32mimport\u001b[0m \u001b[0mJavascript\u001b[0m\u001b[0;34m\u001b[0m\u001b[0;34m\u001b[0m\u001b[0m\n\u001b[0;32m----> 3\u001b[0;31m \u001b[0;32mfrom\u001b[0m \u001b[0mmasquer\u001b[0m \u001b[0;32mimport\u001b[0m \u001b[0;34m*\u001b[0m\u001b[0;34m\u001b[0m\u001b[0;34m\u001b[0m\u001b[0m\n\u001b[0m\u001b[1;32m      4\u001b[0m Javascript(\"\"\"\n\u001b[1;32m      5\u001b[0m function repeter(){\n",
      "\u001b[0;31mModuleNotFoundError\u001b[0m: No module named 'masquer'"
     ]
    }
   ],
   "source": [
    "# Permet de tout executer au lancement du notebook + conserver le notebook actif pendant 2h\n",
    "from IPython.display import Javascript\n",
    "from masquer import *\n",
    "Javascript(\"\"\"\n",
    "function repeter(){\n",
    "IPython.notebook.kernel.execute(\"a=1\");\n",
    "}\n",
    "// execute a = 1 en python toutes les 8 minutes pendant 2h\n",
    "let timerId = setInterval(() => repeter(), 4800);\n",
    "setTimeout(() => { clearInterval(timerId); alert('fin de cession'); }, 7200000);\n",
    "\n",
    "// Supprimer la taille limite pour la sortie d'une cellule\n",
    "IPython.OutputArea.prototype._should_scroll = function(lines) {\n",
    "    return false;\n",
    "};\n",
    "IPython.notebook.kernel.execute(\"url = '\" + window.location + \"'\");\n",
    "\n",
    "// Exécuter toutes les cellule du notebook\n",
    "    require(\n",
    "        ['base/js/namespace', 'jquery'], \n",
    "        function(jupyter, $) {\n",
    "            \n",
    "                \n",
    "                jupyter.actions.call('jupyter-notebook:run-all-cells-below');\n",
    "                jupyter.actions.call('jupyter-notebook:save-notebook');\n",
    "                Jupyter.actions.call('jupyter-notebook:hide-header')\n",
    "\n",
    "        }\n",
    "    );\"\"\")"
   ]
  },
  {
   "cell_type": "code",
   "execution_count": 3,
   "metadata": {
    "hide_input": true,
    "hide_output": true,
    "run_control": {
     "marked": false
    }
   },
   "outputs": [
    {
     "data": {
      "text/html": [
       "<style>\n",
       "h1 {\n",
       "  font-family: 'Permanent Marker', cursive;\n",
       "  text-align: center;\n",
       "  color: red;\n",
       "  \n",
       "}\n",
       "ol {\n",
       "  list-style-position: inside;\n",
       "  margin-left: 1em;\n",
       "  list-style-position: outside;\n",
       "}\n",
       "h2 {\n",
       "  font-family: 'Permanent Marker', cursive;\n",
       "  color: blue;\n",
       "}\n",
       "h3 {\n",
       "  font-family: 'Permanent Marker', cursive;\n",
       "\n",
       "}\n",
       "</style>"
      ],
      "text/plain": [
       "<IPython.core.display.HTML object>"
      ]
     },
     "execution_count": 3,
     "metadata": {},
     "output_type": "execute_result"
    }
   ],
   "source": [
    "from IPython.core.interactiveshell import InteractiveShell\n",
    "InteractiveShell.ast_node_interactivity = \"all\"\n",
    "HTML(\"\"\"<style>\n",
    "h1 {\n",
    "  font-family: 'Permanent Marker', cursive;\n",
    "  text-align: center;\n",
    "  color: red;\n",
    "  \n",
    "}\n",
    "ol {\n",
    "  list-style-position: inside;\n",
    "  margin-left: 1em;\n",
    "  list-style-position: outside;\n",
    "}\n",
    "h2 {\n",
    "  font-family: 'Permanent Marker', cursive;\n",
    "  color: blue;\n",
    "}\n",
    "h3 {\n",
    "  font-family: 'Permanent Marker', cursive;\n",
    "\n",
    "}\n",
    "</style>\"\"\")"
   ]
  },
  {
   "cell_type": "markdown",
   "metadata": {
    "run_control": {
     "marked": false
    }
   },
   "source": [
    "# CHAPITRE 6 - Les arbres"
   ]
  },
  {
   "cell_type": "markdown",
   "metadata": {},
   "source": [
    "Ce cours est une version \"jupyter notebook\" du [cours proposé par Stéphan Van Zuijlen](http://isn-icn-ljm.pagesperso-orange.fr/NSI-TLE/co/section_chapitre3.html)"
   ]
  },
  {
   "cell_type": "markdown",
   "metadata": {},
   "source": [
    "## I. Introduction"
   ]
  },
  {
   "cell_type": "markdown",
   "metadata": {},
   "source": [
    "Nous rencontrons souvent des schémas qui permettent d emettre e évidence une structure sur des données.\n",
    "\n",
    "Par exemple, le schéma ci-dessous se suffit à lui même pour qui prend la peine de le lire...."
   ]
  },
  {
   "cell_type": "markdown",
   "metadata": {},
   "source": [
    "![fig1](fig1.png)"
   ]
  },
  {
   "cell_type": "markdown",
   "metadata": {},
   "source": [
    "De même pour le très classique arbre généalogique"
   ]
  },
  {
   "cell_type": "markdown",
   "metadata": {},
   "source": [
    "![fig2](fig2.png)"
   ]
  },
  {
   "cell_type": "markdown",
   "metadata": {},
   "source": [
    "Voici **un arbre syntaxique**: Un arbre syntaxique représente l'analyse d'une phrase à partir de règles (la grammaire)."
   ]
  },
  {
   "cell_type": "markdown",
   "metadata": {},
   "source": [
    "![fig3](fig3.png)"
   ]
  },
  {
   "cell_type": "markdown",
   "metadata": {},
   "source": [
    "**Arbre lexicographique:** Un arbre lexicographique, ou arbre en parties communes, ou dicitonnaire, représente un ensemble de mots. Les préfixes communs à plusieurs mots apparaissent une seule fois dans l'arbre."
   ]
  },
  {
   "cell_type": "markdown",
   "metadata": {},
   "source": [
    "![fig4](fig4.png)"
   ]
  },
  {
   "cell_type": "markdown",
   "metadata": {},
   "source": [
    "### Exercice 1:\n",
    "Recopier l'arbre précédent en ajoutant les mots **malle** et **portail**."
   ]
  },
  {
   "cell_type": "markdown",
   "metadata": {},
   "source": [
    "On peut également représenter les **expressions arithmétiques** par des arbres étiquetés par des opérateurs, des constantes et des variables. La structure d el'arbre rend compte de la priorité des opérateurs et rend inutile tout parenthésage.\n",
    "\n",
    "\n",
    "Par exemple pour l'expression $\\bigl(\\frac{y}{2} - t\\bigr)(75 + z)$ cela donne:"
   ]
  },
  {
   "cell_type": "markdown",
   "metadata": {},
   "source": [
    "![fig5](fig5.png)"
   ]
  },
  {
   "cell_type": "markdown",
   "metadata": {},
   "source": [
    "### Exercice 2:\n",
    "Représenter sous forme d'arbre l'expression $3 + \\bigl(\\frac{7}{3} - 1\\bigr)^3$"
   ]
  },
  {
   "cell_type": "markdown",
   "metadata": {},
   "source": [
    "Les arbres sont très utilisés en informatique, d'une part parce que les informations sont souvent hiérarchisées et peuvent se représenter naturellement sous une forme arborescente, et d'autre part, parce que les structures d edonnées arborescentes permettent de stocker des données volumineuses de façon que leur accès soit efficace."
   ]
  },
  {
   "cell_type": "code",
   "execution_count": 27,
   "metadata": {},
   "outputs": [
    {
     "name": "stdout",
     "output_type": "stream",
     "text": [
      "['+', [3, ['**', [['-', [['/', [7, 3]], 1]], 3]]]] None\n",
      "[3, ['**', [['-', [['/', [7, 3]], 1]], 3]]] +\n",
      "['**', [['-', [['/', [7, 3]], 1]], 3]] None\n",
      "[['-', [['/', [7, 3]], 1]], 3] **\n",
      "['-', [['/', [7, 3]], 1]] None\n",
      "[['/', [7, 3]], 1] -\n",
      "['/', [7, 3]] None\n",
      "[7, 3] /\n"
     ]
    },
    {
     "data": {
      "text/plain": [
       "5.370370370370371"
      ]
     },
     "execution_count": 27,
     "metadata": {},
     "output_type": "execute_result"
    }
   ],
   "source": [
    "#Structure générale\n",
    "struct1 = [\"+\",[3,[\"**\",[[\"-\",[[\"/\",[7,3]],1]],3]]]]\n",
    "\"\"\"Ceci est le 3 + ((7/3)-1)**3 demandé dans l'exercice 2\"\"\"\n",
    "\n",
    "def calcul(arbre, operateur = None):\n",
    "    print(arbre, operateur)\n",
    "    if operateur is not None:\n",
    "        if type(arbre[0]) == int or type(arbre[0]) == float:\n",
    "            a = arbre[0]\n",
    "        elif type(arbre[0]) == list:\n",
    "            a = calcul(arbre[0], None)\n",
    "        if type(arbre[1]) == int or type(arbre[1]) == float:\n",
    "            b = arbre[1]\n",
    "        elif type(arbre[1]) == list:\n",
    "            b = calcul(arbre[1], None)\n",
    "        return eval(str(a) + operateur + str(b))\n",
    "    else:\n",
    "        if type(arbre[0]) == int or type(arbre[0]) == float:\n",
    "            return arbre[0]\n",
    "        elif type(arbre[0]) == str:\n",
    "            return calcul(arbre[1], operateur = arbre[0])\n",
    "    \n",
    "calcul(struct1)"
   ]
  },
  {
   "cell_type": "code",
   "execution_count": 38,
   "metadata": {},
   "outputs": [
    {
     "name": "stdout",
     "output_type": "stream",
     "text": [
      "['+', [3, ['**', [['-', [['/', [7, 3]], 1]], 3]]]] None\n",
      "[3, ['**', [['-', [['/', [7, 3]], 1]], 3]]] +\n",
      "['**', [['-', [['/', [7, 3]], 1]], 3]] None\n",
      "[['-', [['/', [7, 3]], 1]], 3] **\n",
      "['-', [['/', [7, 3]], 1]] None\n",
      "[['/', [7, 3]], 1] -\n",
      "['/', [7, 3]] None\n",
      "[7, 3] /\n"
     ]
    },
    {
     "data": {
      "text/plain": [
       "'((3)+(((((((7)/(3)))-(1)))**(3))))'"
      ]
     },
     "execution_count": 38,
     "metadata": {},
     "output_type": "execute_result"
    }
   ],
   "source": [
    "struct2 = [\"+\",[3,[\"**\",[[\"-\",[[\"/\",[7,3]],1]],3]]]]\n",
    "def par(arbre, operateur = None):\n",
    "    print(arbre, operateur)\n",
    "    if operateur is not None:\n",
    "        if type(arbre[0]) == int or type(arbre[0]) == float:\n",
    "            a = str(arbre[0])\n",
    "        elif type(arbre[0]) == list:\n",
    "            a = par(arbre[0], None)\n",
    "        if type(arbre[1]) == int or type(arbre[1]) == float:\n",
    "            b = str(arbre[1])\n",
    "        elif type(arbre[1]) == list:\n",
    "            b = par(arbre[1], None)\n",
    "        a = \"(\"+a+\")\"\n",
    "        b = \"(\"+b+\")\"\n",
    "        return \"(\"+a+operateur+b+\")\"\n",
    "    else:\n",
    "        if type(arbre[0]) == int or type(arbre[0]) == float:\n",
    "            return \"(\"+str(arbre[0])+\")\"\n",
    "        elif type(arbre[0]) == str:\n",
    "            return par(arbre[1], operateur = arbre[0])\n",
    "    \n",
    "par(struct2)\n"
   ]
  },
  {
   "cell_type": "code",
   "execution_count": 42,
   "metadata": {},
   "outputs": [
    {
     "name": "stdout",
     "output_type": "stream",
     "text": [
      "['+', [3, ['**', [['-', [['/', [7, 3]], 1]], 3]]]] None\n",
      "[3, ['**', [['-', [['/', [7, 3]], 1]], 3]]] +\n",
      "['**', [['-', [['/', [7, 3]], 1]], 3]] None\n",
      "[['-', [['/', [7, 3]], 1]], 3] **\n",
      "['-', [['/', [7, 3]], 1]] None\n",
      "[['/', [7, 3]], 1] -\n",
      "['/', [7, 3]] None\n",
      "[7, 3] /\n"
     ]
    },
    {
     "data": {
      "text/plain": [
       "'(3 + (((7 / 3) - 1) ** 3))'"
      ]
     },
     "execution_count": 42,
     "metadata": {},
     "output_type": "execute_result"
    }
   ],
   "source": [
    "struct2 = [\"+\",[3,[\"**\",[[\"-\",[[\"/\",[7,3]],1]],3]]]]\n",
    "def par2(arbre, operateur = None):\n",
    "    print(arbre, operateur)\n",
    "    if operateur is not None:\n",
    "        if type(arbre[0]) == int or type(arbre[0]) == float:\n",
    "            a = str(arbre[0])\n",
    "        elif type(arbre[0]) == list:\n",
    "            a = par2(arbre[0], None)\n",
    "        if type(arbre[1]) == int or type(arbre[1]) == float:\n",
    "            b = str(arbre[1])\n",
    "        elif type(arbre[1]) == list:\n",
    "            b = par2(arbre[1], None)\n",
    "        return f\"({a} {operateur} {b})\"\n",
    "    else:\n",
    "        if type(arbre[0]) == int or type(arbre[0]) == float:\n",
    "            return \"(\"+str(arbre[0])+\")\"\n",
    "        elif type(arbre[0]) == str:\n",
    "            return par2(arbre[1], operateur = arbre[0])\n",
    "    \n",
    "par2(struct2)\n"
   ]
  },
  {
   "cell_type": "code",
   "execution_count": 49,
   "metadata": {},
   "outputs": [
    {
     "data": {
      "text/plain": [
       "5.370370370370371"
      ]
     },
     "execution_count": 49,
     "metadata": {},
     "output_type": "execute_result"
    }
   ],
   "source": [
    "struct3 = [\"+\",3,[\"**\",[\"-\",[\"/\",7,3],1],3]]\n",
    "def calc(arbre):\n",
    "    a = arbre[1] if type(arbre[1]) == int or type(arbre[1]) == float else calc(arbre[1])\n",
    "    b = arbre[2] if type(arbre[2]) == int or type(arbre[2]) == float else calc(arbre[2])\n",
    "    return arbre[0] if type(arbre[0]) == int or type(arbre[0]) == float else eval(str(a)+arbre[0]+str(b))\n",
    "\n",
    "calc(struct3)\n"
   ]
  },
  {
   "cell_type": "markdown",
   "metadata": {},
   "source": [
    "## II. Notions générales sur les arbres"
   ]
  },
  {
   "cell_type": "markdown",
   "metadata": {},
   "source": [
    "On peut considérer un arbre comme une généralisation d'une liste car les listes peuvent être représentées par des arbres.\n",
    "\n",
    "Plutôt que de chercher à définir ce qu'est un arbre, nous observerons quelques schémas."
   ]
  },
  {
   "cell_type": "markdown",
   "metadata": {
    "cell_style": "split"
   },
   "source": [
    "Voici la représentation graphique d'un arbre:\n",
    "\n",
    "![fig6](fig6.png)"
   ]
  },
  {
   "cell_type": "markdown",
   "metadata": {
    "cell_style": "split"
   },
   "source": [
    "Voici celle d'une forêt\n",
    "\n",
    "\n",
    "![fig7](fig7.png)\n"
   ]
  },
  {
   "cell_type": "markdown",
   "metadata": {
    "cell_style": "split"
   },
   "source": [
    "![fig8](fig8.png)"
   ]
  },
  {
   "cell_type": "markdown",
   "metadata": {
    "cell_style": "split"
   },
   "source": [
    "**Attention:** Ceci n'est pas un arbre, car il existe un chemin d'un sommet vers lui même appelé un cycle."
   ]
  },
  {
   "cell_type": "markdown",
   "metadata": {},
   "source": [
    "Lorsqu'un sommet se distingue des autres, on le nomme **racine** de l'arbre et celui-ci devient alors **une arborescence** (par la suite on utilisera le mot arbre pour une arborescence)."
   ]
  },
  {
   "cell_type": "markdown",
   "metadata": {},
   "source": [
    "Les 3 arbres ci-dessous représentent la même structure, cependant pour deux d'entre eux, un sommet peut être désigné comme racine."
   ]
  },
  {
   "cell_type": "markdown",
   "metadata": {},
   "source": [
    "![fig9](fig9.png)"
   ]
  },
  {
   "cell_type": "markdown",
   "metadata": {},
   "source": [
    "On a l'habitude, lorsqu'on dessine un arbre, de la représenter avec la tête en bas, c'est à dire que la racine est tout en hat, et les noeuds fils sont représentés en-dessous du noeud père."
   ]
  },
  {
   "cell_type": "markdown",
   "metadata": {
    "cell_style": "split"
   },
   "source": [
    "### Definition:\n",
    "Un arbre dont tous les noeuds sont nommés est dit étiqueté. L'étiquette (ou nom du sommet) représente la \"valeur\" du noeud ou bien l'information associée au noeud.\n",
    "\n",
    "Ci-contre un arbre étiqueté avec les entiers entre 1 et 10."
   ]
  },
  {
   "cell_type": "markdown",
   "metadata": {
    "cell_style": "split"
   },
   "source": [
    "![fig10](fig10.png)"
   ]
  },
  {
   "cell_type": "markdown",
   "metadata": {
    "cell_style": "split"
   },
   "source": [
    "### Définition:\n",
    "**Racine, noeud, branche, feuille:**\n",
    "Un arbre est un ensemble organisé de noeuds dans lequel chaque noeud a un **père**, sauf un noeud que l'on appelle la **racine**\n",
    "\n",
    "Si le noeud n'a pas de **fils**, on dit que c'est une **feuille**.\n",
    "\n",
    "Les noeuds sont reliés par des **branches**"
   ]
  },
  {
   "cell_type": "markdown",
   "metadata": {
    "cell_style": "split"
   },
   "source": [
    "![fig11](fig11.png)"
   ]
  },
  {
   "cell_type": "markdown",
   "metadata": {
    "cell_style": "split"
   },
   "source": [
    "### Définition:\n",
    "**Hauteur d'un noeud:**\n",
    "\n",
    "La hauteur (ou profondeur ou niveau) d'un noeud X est égale au nombre d'arêtes qu'il faut parcourir à partir de la racine pour aller jusqu'au noeud X.\n",
    "\n",
    "\n",
    "Par convention, la hauteur (ou profondeur) de la racine est égale à 0. (*Attention: La définition de la hauteur d'un noeud varie en fonction des auteurs. Pour certains, la racine a une hauteur de 1.)*\n",
    "\n",
    "Dans l'exemple ci-contre, la hauteur du noeud 9 est de 3 et celle du noeud 7 est de 2."
   ]
  },
  {
   "cell_type": "markdown",
   "metadata": {
    "cell_style": "split"
   },
   "source": [
    "![fig12](fig12.png)"
   ]
  },
  {
   "cell_type": "markdown",
   "metadata": {
    "cell_style": "center"
   },
   "source": [
    "### Définition:\n",
    "La hauteur (ou profondeur) d'un arbre est égale à la profondeur du noeud le plus profond. Dans notre exemple, le noeud le plus profond est de profondeur 3, donc l'arbre est de profondeur 3."
   ]
  },
  {
   "cell_type": "markdown",
   "metadata": {},
   "source": [
    "### Exercice 3.\n",
    "Déterminer les profondeurs des arbres de l'introduction"
   ]
  },
  {
   "cell_type": "markdown",
   "metadata": {},
   "source": [
    "### Définition:\n",
    "**Taille d'un arbre:**\n",
    "\n",
    "La taille d'un arbre est égale au nombre de noeuds de l'arbre.\n",
    "\n",
    "Dans notre exemple, l'arbre contient 10 noeuds, sa taille est donc de 10."
   ]
  },
  {
   "cell_type": "markdown",
   "metadata": {},
   "source": [
    "### Exercice 4.\n",
    "Déterminer les tailles des arbres de l'introduction"
   ]
  },
  {
   "cell_type": "markdown",
   "metadata": {
    "cell_style": "split"
   },
   "source": [
    "### Définition:\n",
    "**Degré d'un noeud, degré d'un arbre:**\n",
    "\n",
    "Le degré d'un noeud est égal au nombre de ses descendants (enfants).\n",
    "\n",
    "Le degré d'un arbre est égal au plus grand des degrés de ses noeuds."
   ]
  },
  {
   "cell_type": "markdown",
   "metadata": {
    "cell_style": "split"
   },
   "source": [
    "![fig13](fig13.png)"
   ]
  },
  {
   "cell_type": "markdown",
   "metadata": {},
   "source": [
    "### Exercice 5.\n",
    "Déterminer les degrés des arbres de l'introduction"
   ]
  },
  {
   "cell_type": "markdown",
   "metadata": {},
   "source": [
    "### Remarque:\n",
    "Le vocabulaire de lien entre noeuds d eniveaux différents et reliés entre eux est emprunté à la généalogie:\n",
    "\n",
    "Dans notre exemple:\n",
    "* 8 est le parent de 9 et de 10\n",
    "* 6 est un enfant de 4\n",
    "* 6 et 7 sont des noeuds frères\n",
    "* 5 est un ancêtre de 9\n",
    "* 10 est un descendant de 5"
   ]
  },
  {
   "cell_type": "markdown",
   "metadata": {},
   "source": [
    "### Remarque:\n",
    "Un arbre dont tous les noeuds n'ont qu'un seul fils est en fait une liste.\n",
    "\n",
    "![fig14](fig14.png)"
   ]
  }
 ],
 "metadata": {
  "celltoolbar": "None",
  "kernelspec": {
   "display_name": "Python 3",
   "language": "python",
   "name": "python3"
  },
  "language_info": {
   "codemirror_mode": {
    "name": "ipython",
    "version": 3
   },
   "file_extension": ".py",
   "mimetype": "text/x-python",
   "name": "python",
   "nbconvert_exporter": "python",
   "pygments_lexer": "ipython3",
   "version": "3.7.8"
  },
  "varInspector": {
   "cols": {
    "lenName": 16,
    "lenType": 16,
    "lenVar": 40
   },
   "kernels_config": {
    "python": {
     "delete_cmd_postfix": "",
     "delete_cmd_prefix": "del ",
     "library": "var_list.py",
     "varRefreshCmd": "print(var_dic_list())"
    },
    "r": {
     "delete_cmd_postfix": ") ",
     "delete_cmd_prefix": "rm(",
     "library": "var_list.r",
     "varRefreshCmd": "cat(var_dic_list()) "
    }
   },
   "types_to_exclude": [
    "module",
    "function",
    "builtin_function_or_method",
    "instance",
    "_Feature"
   ],
   "window_display": false
  }
 },
 "nbformat": 4,
 "nbformat_minor": 4
}
