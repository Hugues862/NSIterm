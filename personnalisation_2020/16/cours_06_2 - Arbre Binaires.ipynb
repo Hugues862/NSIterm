{
 "cells": [
  {
   "cell_type": "code",
   "execution_count": 12,
   "metadata": {
    "hide_input": true,
    "hide_output": true,
    "init_cell": true,
    "run_control": {
     "marked": false
    }
   },
   "outputs": [
    {
     "ename": "ModuleNotFoundError",
     "evalue": "No module named 'masquer'",
     "output_type": "error",
     "traceback": [
      "\u001b[0;31m---------------------------------------------------------------------------\u001b[0m",
      "\u001b[0;31mModuleNotFoundError\u001b[0m                       Traceback (most recent call last)",
      "\u001b[0;32m<ipython-input-12-7894d36b3d29>\u001b[0m in \u001b[0;36m<module>\u001b[0;34m\u001b[0m\n\u001b[1;32m      1\u001b[0m \u001b[0;31m# Permet de tout executer au lancement du notebook + conserver le notebook actif pendant 2h\u001b[0m\u001b[0;34m\u001b[0m\u001b[0;34m\u001b[0m\u001b[0;34m\u001b[0m\u001b[0m\n\u001b[1;32m      2\u001b[0m \u001b[0;32mfrom\u001b[0m \u001b[0mIPython\u001b[0m\u001b[0;34m.\u001b[0m\u001b[0mdisplay\u001b[0m \u001b[0;32mimport\u001b[0m \u001b[0mJavascript\u001b[0m\u001b[0;34m\u001b[0m\u001b[0;34m\u001b[0m\u001b[0m\n\u001b[0;32m----> 3\u001b[0;31m \u001b[0;32mfrom\u001b[0m \u001b[0mmasquer\u001b[0m \u001b[0;32mimport\u001b[0m \u001b[0;34m*\u001b[0m\u001b[0;34m\u001b[0m\u001b[0;34m\u001b[0m\u001b[0m\n\u001b[0m\u001b[1;32m      4\u001b[0m Javascript(\"\"\"\n\u001b[1;32m      5\u001b[0m function repeter(){\n",
      "\u001b[0;31mModuleNotFoundError\u001b[0m: No module named 'masquer'"
     ]
    }
   ],
   "source": [
    "# Permet de tout executer au lancement du notebook + conserver le notebook actif pendant 2h\n",
    "from IPython.display import Javascript\n",
    "from masquer import *\n",
    "Javascript(\"\"\"\n",
    "function repeter(){\n",
    "IPython.notebook.kernel.execute(\"a=1\");\n",
    "}\n",
    "// execute a = 1 en python toutes les 8 minutes pendant 2h\n",
    "let timerId = setInterval(() => repeter(), 4800);\n",
    "setTimeout(() => { clearInterval(timerId); alert('fin de cession'); }, 7200000);\n",
    "\n",
    "// Supprimer la taille limite pour la sortie d'une cellule\n",
    "IPython.OutputArea.prototype._should_scroll = function(lines) {\n",
    "    return false;\n",
    "};\n",
    "IPython.notebook.kernel.execute(\"url = '\" + window.location + \"'\");\n",
    "\n",
    "// Exécuter toutes les cellule du notebook\n",
    "    require(\n",
    "        ['base/js/namespace', 'jquery'], \n",
    "        function(jupyter, $) {\n",
    "            \n",
    "                \n",
    "                jupyter.actions.call('jupyter-notebook:run-all-cells-below');\n",
    "                jupyter.actions.call('jupyter-notebook:save-notebook');\n",
    "                Jupyter.actions.call('jupyter-notebook:hide-header')\n",
    "\n",
    "        }\n",
    "    );\"\"\")"
   ]
  },
  {
   "cell_type": "code",
   "execution_count": null,
   "metadata": {
    "hide_input": true,
    "hide_output": true,
    "run_control": {
     "marked": false
    }
   },
   "outputs": [],
   "source": [
    "from IPython.core.interactiveshell import InteractiveShell\n",
    "InteractiveShell.ast_node_interactivity = \"all\"\n",
    "HTML(\"\"\"<style>\n",
    "h1 {\n",
    "  font-family: 'Permanent Marker', cursive;\n",
    "  text-align: center;\n",
    "  color: red;\n",
    "  \n",
    "}\n",
    "ol {\n",
    "  list-style-position: inside;\n",
    "  margin-left: 1em;\n",
    "  list-style-position: outside;\n",
    "}\n",
    "h2 {\n",
    "  font-family: 'Permanent Marker', cursive;\n",
    "  color: blue;\n",
    "}\n",
    "h3 {\n",
    "  font-family: 'Permanent Marker', cursive;\n",
    "\n",
    "}\n",
    "</style>\"\"\")"
   ]
  },
  {
   "cell_type": "markdown",
   "metadata": {
    "run_control": {
     "marked": false
    }
   },
   "source": [
    "# CHAPITRE 6 - Les arbres"
   ]
  },
  {
   "cell_type": "markdown",
   "metadata": {},
   "source": [
    "Ce cours est une version \"jupyter notebook\" du [cours proposé par Stéphan Van Zuijlen](http://isn-icn-ljm.pagesperso-orange.fr/NSI-TLE/co/section_chapitre3.html)"
   ]
  },
  {
   "cell_type": "markdown",
   "metadata": {},
   "source": [
    "## III. Les arbres binaires"
   ]
  },
  {
   "cell_type": "markdown",
   "metadata": {},
   "source": [
    "Parmi la forêt d'arbres possibles, on s'intéressera essentiellement aux arbres dit binaires."
   ]
  },
  {
   "cell_type": "markdown",
   "metadata": {
    "cell_style": "split"
   },
   "source": [
    "### Définition:\n",
    "Un arbre **binaire** est un arbre de degré 2 (dont lesnoeuds sont de degré 2 au plus).\n",
    "\n",
    "Les enfants d'un noeud sont lus de **gauche à droite** et sont appelés **fils gauche** et **fils droit**."
   ]
  },
  {
   "cell_type": "markdown",
   "metadata": {
    "cell_style": "split"
   },
   "source": [
    "![figure15](fig15.png)"
   ]
  },
  {
   "cell_type": "markdown",
   "metadata": {},
   "source": [
    "### Exercice 1:\n",
    "Parmi les arbres du cours précédent, lesquels sont binaires ?"
   ]
  },
  {
   "cell_type": "markdown",
   "metadata": {},
   "source": [
    "Réponse"
   ]
  },
  {
   "cell_type": "markdown",
   "metadata": {},
   "source": [
    "### Remarque:\n",
    "Les aerbres binaires forment une structure de données qui peut se définir de façon récursive.\n",
    "\n",
    "Un arbre binaire est:\n",
    "- soit vide\n",
    "- soit composé d'une racine portant une étiquette (clé) et d'une paire d'arbres binaires, appelés sous-arbre gauche et sous-arbre droit."
   ]
  },
  {
   "cell_type": "markdown",
   "metadata": {},
   "source": [
    "Les arbres binaires sont utilisés dans de très nombreuses activités informatiques, nous allons étudier et implanter cette structure de données."
   ]
  },
  {
   "cell_type": "markdown",
   "metadata": {},
   "source": [
    "## Comment représenter un arbre binaire... à la main..."
   ]
  },
  {
   "cell_type": "markdown",
   "metadata": {
    "cell_style": "split"
   },
   "source": [
    "L'idée est de représenter l'arbre avec un tableau.\n",
    "\n",
    "[r, a, b] La racine r suivie de ses fils gauche et droit."
   ]
  },
  {
   "cell_type": "markdown",
   "metadata": {
    "cell_style": "split"
   },
   "source": [
    "![figure16](fig16.png)"
   ]
  },
  {
   "cell_type": "markdown",
   "metadata": {
    "cell_style": "split"
   },
   "source": [
    "![figure17](fig17.png)"
   ]
  },
  {
   "cell_type": "markdown",
   "metadata": {
    "cell_style": "split"
   },
   "source": [
    "Puis on rajoute dans l'ordre les fils gauche et droit de a, puis ceux de b. \n",
    "\n",
    "[r, a, b, c, d, e, f]"
   ]
  },
  {
   "cell_type": "markdown",
   "metadata": {},
   "source": [
    "### Remarque:\n",
    "Chaque noeud se repère par son indice *n* dans la liste, son fils gauche se trouvant alors à l'indice $2n + 1$ et son fils droit à l'indice $2n + 2$.\n",
    "\n",
    "$2n + 1$ --> impair\n",
    "\n",
    "$2n + 2$ --> pair\n",
    "\n",
    "Exemple: **b** est d'indice 2, son fils gauche se trouve alors à l'indice 5 et son fils droit à l'indice 6."
   ]
  },
  {
   "cell_type": "markdown",
   "metadata": {},
   "source": [
    "[r,a,b,c,d,e,f,g,h,i,j,k,l,m,n]\n",
    "\n",
    "**d** est d'indice 4. \n",
    "\n",
    "Son fils gauche se trouve en $2\\times4 + 1 = 9$ \n",
    "\n",
    "Son fils droit se trouve en $2\\times4 + 3 = 10$"
   ]
  },
  {
   "cell_type": "markdown",
   "metadata": {},
   "source": [
    "Si on prend un noeud d'indice $2^0+2^1+k$\n",
    "\n",
    "ses enfants seront en $1+2\\times n$ et en $2+2\\times n$"
   ]
  },
  {
   "cell_type": "markdown",
   "metadata": {},
   "source": [
    "Si un noeud n'a pas de fils, on le précise en mettant *None* à sa place. Notre arbre est alors représenté par le tableau:\n",
    "\n",
    "[r, a, b, c, d, e, f, None, None, None, None, None, None, None, None]"
   ]
  },
  {
   "cell_type": "markdown",
   "metadata": {},
   "source": [
    "**Quelle taille doit avoir le tableau ?**"
   ]
  },
  {
   "cell_type": "markdown",
   "metadata": {
    "cell_style": "split"
   },
   "source": [
    "![figure18](fig18.png)"
   ]
  },
  {
   "cell_type": "markdown",
   "metadata": {
    "cell_style": "split"
   },
   "source": [
    "Cet arbre est complet (tous les noeuds internes ont deux fils).\n",
    "\n",
    "Il possède 3 niveaux, sa hauteur ou profondeur est donc de 2. La taille du tableau sera de: $$2^0 + 2^1 + 2^2 + 2^3 = 2^4 -1 = 15$$\n",
    "\n",
    "*Il faut compter le nombre de noeuds, y compris les noeuds \"fantômes\" des feuilles.*"
   ]
  },
  {
   "cell_type": "markdown",
   "metadata": {},
   "source": [
    "### Exercice 2:\n",
    "1. Quelle est la taille du tableau qui permet de représenter cet arbre ?\n",
    "\n",
    "![figure19](fig19.png)\n",
    "\n",
    "2. Ecrire le tableau représentant cet arbre et le stocker dans une variable **t**\n",
    "\n",
    "3. Quelle propriété ont les indices des fils gauches et droits ?\n",
    "\n",
    "4. Voici un tableau représentant un arbre binaire:\n",
    "\n",
    "['*','-',5,2,6,None,None,None,None,None,None,None,None,None,None]\n",
    "\n",
    "\n",
    "Le dessiner. Que peut-il représenter ?"
   ]
  },
  {
   "cell_type": "code",
   "execution_count": 2,
   "metadata": {},
   "outputs": [
    {
     "data": {
      "text/plain": [
       "63"
      ]
     },
     "execution_count": 2,
     "metadata": {},
     "output_type": "execute_result"
    }
   ],
   "source": [
    "#1\n",
    "l = [\"r\"]+[\"a\",\"b\"]+[\"c\",\"d\",\"e\",\"f\"]+[None,\"h\",\"i\",\"j\",\"k\",None,None,None]+[None,None,None,None,None,None,\"m\",None,None,None,None,None,None,None,None,None]+[None]*2**5\n",
    "len(l) # profondeur 4 => 2**6 lements dans le tableau\n"
   ]
  },
  {
   "cell_type": "code",
   "execution_count": 3,
   "metadata": {},
   "outputs": [
    {
     "data": {
      "text/plain": [
       "-20"
      ]
     },
     "execution_count": 3,
     "metadata": {},
     "output_type": "execute_result"
    }
   ],
   "source": [
    "s = [\"*\",\"-\",5,2,6,None,None,None,None,None,None,None,None,None,None]\n",
    "#racine = \"*\"\n",
    "#p1 = \"-\" et 5\n",
    "#p2 = 2 et 6\n",
    "(2-6)*5"
   ]
  },
  {
   "cell_type": "code",
   "execution_count": null,
   "metadata": {},
   "outputs": [],
   "source": []
  },
  {
   "cell_type": "code",
   "execution_count": null,
   "metadata": {},
   "outputs": [],
   "source": []
  },
  {
   "cell_type": "markdown",
   "metadata": {},
   "source": [
    "**Voici un code python Python qui crée la liste représentant l'arbre de l'exercice 2:**\n"
   ]
  },
  {
   "cell_type": "code",
   "execution_count": 4,
   "metadata": {},
   "outputs": [
    {
     "name": "stdout",
     "output_type": "stream",
     "text": [
      "63\n",
      "['r', 'a', 'b', 'c', 'd', 'e', 'f', None, 'h', 'i', 'j', 'k', None, None, None, None, None, None, None, None, None, 'm', None, None, None, None, None, None, None, None, None, None, None, None, None, None, None, None, None, None, None, None, None, None, None, None, None, None, None, None, None, None, None, None, None, None, None, None, None, None, None, None, None]\n"
     ]
    }
   ],
   "source": [
    "def creation_arbre(r,profondeur):\n",
    "    \"\"\"r : la racine (str ou int). la profondeur de l’arbre (int)\"\"\"\n",
    "    Arbre = [r]+[None for i in range(2**(profondeur+1)-2)]\n",
    "    return Arbre\n",
    "\n",
    "def insertion_noeud(arbre,n,fg,fd): #fg = filsgauche, fd = filsdroit\n",
    "    \"\"\"Insére les noeuds et leurs enfants dans l’arbre\"\"\"\n",
    "    indice = arbre.index(n)\n",
    "    arbre[2*indice+1] = fg\n",
    "    arbre[2*indice+2] = fd\n",
    "\n",
    "    \n",
    "def creation_var_arbre():\n",
    "    # création de l’arbre de profondeur 5\n",
    "    arbre = creation_arbre(\"r\",5)\n",
    "    # ajout des noeuds par niveau de gauche à droite\n",
    "    insertion_noeud(arbre,\"r\",\"a\",\"b\")\n",
    "    insertion_noeud(arbre,\"a\",\"c\",\"d\")\n",
    "    insertion_noeud(arbre,\"b\",\"e\",\"f\")\n",
    "    insertion_noeud(arbre,\"c\",None,\"h\")\n",
    "    insertion_noeud(arbre,\"d\",\"i\",\"j\")\n",
    "    insertion_noeud(arbre,\"e\",\"k\",None)\n",
    "    insertion_noeud(arbre,\"f\",None,None)\n",
    "    insertion_noeud(arbre,\"h\",None,None)\n",
    "    insertion_noeud(arbre,\"i\",None,None)\n",
    "    insertion_noeud(arbre,\"j\",\"m\",None)\n",
    "    insertion_noeud(arbre,\"k\",None,None)\n",
    "    insertion_noeud(arbre,\"m\",None,None)\n",
    "    \n",
    "    return arbre\n",
    "\n",
    "arbre = creation_var_arbre()\n",
    "#pour vérifier\n",
    "print(len(arbre))\n",
    "print(arbre)"
   ]
  },
  {
   "cell_type": "markdown",
   "metadata": {},
   "source": [
    "### Exercice 3:\n",
    "1. Ecrire une fonction qui retourne le parent d'une noeud s'il est dans l'arbre et None sinon.\n",
    "2. Ecrire une fonction qui retourne **True** si l'arbre est vide\n",
    "3. Ecrire une fonction qui retourne les enfants d'un noeud.\n",
    "4. Un fonction qui renvoie le fils gauche d'un noeud s'il existe et None sinon\n",
    "5. Même question pour le fils droit\n",
    "6. Ecrire une fonction qui renvoie **True** si le noeud est la racine de l'arbre\n",
    "7. Ecrire une fonction qui renvoie **True** si le noeud est une feuille\n",
    "8. Ecrire une fonction qui renvoie **true** si le noeud comporte un frère gauche ou droit."
   ]
  },
  {
   "cell_type": "code",
   "execution_count": 5,
   "metadata": {},
   "outputs": [],
   "source": [
    "arbre = creation_var_arbre()"
   ]
  },
  {
   "cell_type": "code",
   "execution_count": 6,
   "metadata": {},
   "outputs": [
    {
     "data": {
      "text/plain": [
       "'r'"
      ]
     },
     "execution_count": 6,
     "metadata": {},
     "output_type": "execute_result"
    }
   ],
   "source": [
    "#1\n",
    "def parent(arbre, n):\n",
    "    return arbre[(arbre.index(n)-1)//2] if arbre.index(n) else None\n",
    "    \n",
    "parent(arbre, \"b\")"
   ]
  },
  {
   "cell_type": "code",
   "execution_count": 7,
   "metadata": {},
   "outputs": [
    {
     "data": {
      "text/plain": [
       "False"
      ]
     },
     "execution_count": 7,
     "metadata": {},
     "output_type": "execute_result"
    }
   ],
   "source": [
    "#2\n",
    "arbre_vide = lambda arbre: len(arbre) == 0 or arbre[0] == None\n",
    "\n",
    "arbre_vide(arbre)"
   ]
  },
  {
   "cell_type": "code",
   "execution_count": 8,
   "metadata": {},
   "outputs": [
    {
     "data": {
      "text/plain": [
       "True"
      ]
     },
     "execution_count": 8,
     "metadata": {},
     "output_type": "execute_result"
    }
   ],
   "source": [
    "arbre2 = [None]\n",
    "arbre_vide(arbre2)"
   ]
  },
  {
   "cell_type": "code",
   "execution_count": 9,
   "metadata": {},
   "outputs": [
    {
     "data": {
      "text/plain": [
       "('e', 'f')"
      ]
     },
     "execution_count": 9,
     "metadata": {},
     "output_type": "execute_result"
    }
   ],
   "source": [
    "#3\n",
    "def enfant(arbre, n):\n",
    "    return arbre[2*arbre.index(n)+1],arbre[2*arbre.index(n)+2] if arbre.index(n) else None\n",
    "    \n",
    "enfant(arbre, \"b\")"
   ]
  },
  {
   "cell_type": "code",
   "execution_count": 16,
   "metadata": {},
   "outputs": [
    {
     "data": {
      "text/plain": [
       "'e'"
      ]
     },
     "execution_count": 16,
     "metadata": {},
     "output_type": "execute_result"
    }
   ],
   "source": [
    "#4\n",
    "fg = lambda arbre, n : None if n not in arbre else arbre[2*arbre.index(n)+1]\n",
    "\n",
    "fg(arbre, \"b\")"
   ]
  },
  {
   "cell_type": "code",
   "execution_count": 17,
   "metadata": {},
   "outputs": [
    {
     "data": {
      "text/plain": [
       "'f'"
      ]
     },
     "execution_count": 17,
     "metadata": {},
     "output_type": "execute_result"
    }
   ],
   "source": [
    "#5\n",
    "fd = lambda arbre, n : None if n not in arbre else arbre[2*arbre.index(n)+2]\n",
    "\n",
    "fd(arbre, \"b\")"
   ]
  },
  {
   "cell_type": "code",
   "execution_count": 38,
   "metadata": {},
   "outputs": [
    {
     "data": {
      "text/plain": [
       "True"
      ]
     },
     "execution_count": 38,
     "metadata": {},
     "output_type": "execute_result"
    }
   ],
   "source": [
    "#6\n",
    "isRacine = lambda arbre, n : n == arbre[0] if len(arbre) != 0 else False\n",
    "#ou\n",
    "def isRacine(arbre, n):\n",
    "    if n not in arbre:\n",
    "        return False\n",
    "    return n == arbre[0] if len(arbre) != 0 else False\n",
    "    \n",
    "isRacine(arbre,'r')"
   ]
  },
  {
   "cell_type": "code",
   "execution_count": 34,
   "metadata": {},
   "outputs": [
    {
     "data": {
      "text/plain": [
       "True"
      ]
     },
     "execution_count": 34,
     "metadata": {},
     "output_type": "execute_result"
    }
   ],
   "source": [
    "#7\n",
    "def isFeuille(arbre, n):\n",
    "    if n not in arbre:\n",
    "        return False\n",
    "    if n is None:\n",
    "        return False\n",
    "    return arbre[2*arbre.index(n)+1] is None and arbre[2*arbre.index(n)+2] is None\n",
    "\n",
    "isFeuille(arbre, 'm')"
   ]
  },
  {
   "cell_type": "code",
   "execution_count": 35,
   "metadata": {},
   "outputs": [
    {
     "data": {
      "text/plain": [
       "False"
      ]
     },
     "execution_count": 35,
     "metadata": {},
     "output_type": "execute_result"
    }
   ],
   "source": [
    "#8\n",
    "frere = lambda arbre,n : True if fg(arbre,n) or fd(arbre,n) else False\n",
    "#ou\n",
    "def frere(arbre,n):\n",
    "    if n not in arbre:\n",
    "        return False\n",
    "    return True if fg(arbre,n) or fd(arbre,n) else False\n",
    "\n",
    "frere(arbre,\"m\")"
   ]
  },
  {
   "cell_type": "markdown",
   "metadata": {},
   "source": [
    "## Une seconde façon de faire..."
   ]
  },
  {
   "cell_type": "markdown",
   "metadata": {},
   "source": [
    "Comme vous l'avez sans doute constaté, il est assez fastidieux de représenter un arbre avec un unique tableau surtout pour un arbre très profond.\n",
    "\n",
    "L'idée est de représenter l'arbre ave cun tableau contenant des tableaux"
   ]
  },
  {
   "cell_type": "markdown",
   "metadata": {
    "cell_style": "split"
   },
   "source": [
    "![figure20](fig20.png)"
   ]
  },
  {
   "cell_type": "markdown",
   "metadata": {
    "cell_style": "split"
   },
   "source": [
    "Cet arbre se représente par le tableau:\n",
    "\n",
    "['r', ['a', [ ], [ ]], ['b', [ ], [ ]]]"
   ]
  },
  {
   "cell_type": "markdown",
   "metadata": {},
   "source": [
    "### Exercice 4:\n",
    "Ecrire le tableau représentant l'arbre ci-dessous et le stocker dans une variable **t**\n",
    "\n",
    "![figure21](fig21.png)"
   ]
  },
  {
   "cell_type": "markdown",
   "metadata": {},
   "source": [
    "['r', ['a', ['c', [], []], ['d', [], []]], ['b', ['e', [], []], ['f', [], []]]"
   ]
  },
  {
   "cell_type": "markdown",
   "metadata": {},
   "source": [
    "**Le code Python ci-dessous, construit l'arbre de l'exercice 1 de manière récursive.**\n",
    "\n",
    "* Les noeuds sont représentés par un dictionnaire.\n",
    "* L'arbre se construit depuis la racine en construisant les sous-arbres des fils gauche et droit."
   ]
  },
  {
   "cell_type": "code",
   "execution_count": 39,
   "metadata": {},
   "outputs": [
    {
     "name": "stdout",
     "output_type": "stream",
     "text": [
      "['r', ['a', ['c', [], ['h', [], []]], ['d', ['i', [], []], ['j', ['m', [], []], []]]], ['b', ['e', ['k', [], []], []], ['f', [], []]]]\n"
     ]
    }
   ],
   "source": [
    "def noeud(nom, fg =None, fd =None):\n",
    "    return{'racine': nom, 'fg' : fg, 'fd': fd}\n",
    "\n",
    "# création des noeuds\n",
    "k = noeud('k')\n",
    "f = noeud('f')\n",
    "e = noeud('e', k,None)\n",
    "b = noeud('b', e, f)\n",
    "m = noeud('m')\n",
    "j = noeud('j', m,None)\n",
    "i = noeud('i')\n",
    "d = noeud('d', i, j)\n",
    "h = noeud('h')\n",
    "c = noeud('c',None, h)\n",
    "a = noeud('a', c, d)\n",
    "racine = noeud('r', a, b)\n",
    "# création de l’arbre\n",
    "def construit(arbre):\n",
    "    if arbre is None:\n",
    "        return [ ]\n",
    "    else:\n",
    "        return [arbre['racine'],construit(arbre['fg']),construit(arbre['fd'])]\n",
    "\n",
    "arbre1 = construit(racine)\n",
    "print(arbre1)"
   ]
  },
  {
   "cell_type": "markdown",
   "metadata": {},
   "source": [
    "### Exercice 5\n",
    "Ecrire toutes les fonctions de l'exercice 3 dans le cas de cette implémentation de l'arbre."
   ]
  },
  {
   "cell_type": "code",
   "execution_count": null,
   "metadata": {},
   "outputs": [],
   "source": []
  },
  {
   "cell_type": "code",
   "execution_count": null,
   "metadata": {},
   "outputs": [],
   "source": []
  },
  {
   "cell_type": "code",
   "execution_count": null,
   "metadata": {},
   "outputs": [],
   "source": []
  },
  {
   "cell_type": "code",
   "execution_count": null,
   "metadata": {},
   "outputs": [],
   "source": []
  },
  {
   "cell_type": "code",
   "execution_count": null,
   "metadata": {},
   "outputs": [],
   "source": []
  },
  {
   "cell_type": "code",
   "execution_count": null,
   "metadata": {},
   "outputs": [],
   "source": []
  },
  {
   "cell_type": "code",
   "execution_count": null,
   "metadata": {},
   "outputs": [],
   "source": []
  },
  {
   "cell_type": "code",
   "execution_count": null,
   "metadata": {},
   "outputs": [],
   "source": []
  },
  {
   "cell_type": "markdown",
   "metadata": {},
   "source": [
    "Nous allons maintenant nous intéresser à la hauteur de l'arbre, ainsi qu'aux différentes façons de le parcourir:\n",
    "* Le parcours en largeur\n",
    "* Le parcours en profondeur (parcours fixe, parcours infixe et parcours suffixe).\n",
    "\n",
    "**Calcul de la hauteur de l'arbre:**\n",
    "L'idée ets la suivante:\n",
    "* Si l'arbre ets vide, la hauteur vaut -1\n",
    "* Sinon la hauteur vaut 1 auquel il faut ajouter le maximum entre les hauteurs des sous arbres gauche et droit.\n",
    "* Ces sous-arbres sont eux même des arbres dont il faut calculer la hauteur.\n",
    "\n",
    "Une méthode **récursive** semble donc tout à fait adaptée à la situation.\n",
    "\n",
    "Voici l'algorithme:\n",
    "\n",
    "![figure22](fig22.png)"
   ]
  },
  {
   "cell_type": "markdown",
   "metadata": {},
   "source": [
    "### Exercice 6:\n",
    "1. Ecrire cette fonction pour l'arbre précédent et vérifier que sa profondeur est de 4.\n",
    "2. Reprenez l'arbre d ela question 4 de l'exercice 2. Stockez le dans une variable avec cette nouvelle méthode puis calculez sa profondeur."
   ]
  },
  {
   "cell_type": "code",
   "execution_count": null,
   "metadata": {},
   "outputs": [],
   "source": []
  },
  {
   "cell_type": "code",
   "execution_count": null,
   "metadata": {},
   "outputs": [],
   "source": []
  },
  {
   "cell_type": "markdown",
   "metadata": {},
   "source": [
    "## Les parcours"
   ]
  },
  {
   "cell_type": "markdown",
   "metadata": {},
   "source": [
    "**Le parcours en largeur:**\n",
    "Le parcours en largeur d'un arbre consiste à partir de la racine. On visite ensuite son fils gauche puis sont fils droit, puis le fils gauche du fils gauche etc... Comme le montre le schéma ci-dessous:\n",
    "\n",
    "![figure23](fig23.png)\n"
   ]
  },
  {
   "cell_type": "markdown",
   "metadata": {},
   "source": [
    "L'idée est la suivante:\n",
    "\n",
    "On utilise une File.\n",
    "* On met l'arbre dans la file.\n",
    "* Puis tant que la file n'est pas vide:\n",
    "    * On défile la file\n",
    "    * On récupère sa racine\n",
    "    * On enfile son fils gauche s'il existe\n",
    "    * on enfile son fils droit s'il existe\n",
    "    \n",
    "Voici l'algorithme:\n",
    "\n",
    "![figure24](fig24.png)"
   ]
  },
  {
   "cell_type": "markdown",
   "metadata": {},
   "source": [
    "### Exercice 7\n",
    "\n",
    "1. Rappeler les fonction permettant de définir une structure de file en python.\n",
    "2. Implémenter alors cette fonction et l'essayer sur l'arbre précédent."
   ]
  },
  {
   "cell_type": "code",
   "execution_count": null,
   "metadata": {},
   "outputs": [],
   "source": []
  },
  {
   "cell_type": "code",
   "execution_count": null,
   "metadata": {},
   "outputs": [],
   "source": []
  },
  {
   "cell_type": "markdown",
   "metadata": {},
   "source": [
    "**Les parcours en profondeur**\n",
    "On se balade autour de l'arbre en suivant les pointillés\n",
    "\n",
    "![figure25](fig25.png)"
   ]
  }
 ],
 "metadata": {
  "celltoolbar": "None",
  "kernelspec": {
   "display_name": "Python 3",
   "language": "python",
   "name": "python3"
  },
  "language_info": {
   "codemirror_mode": {
    "name": "ipython",
    "version": 3
   },
   "file_extension": ".py",
   "mimetype": "text/x-python",
   "name": "python",
   "nbconvert_exporter": "python",
   "pygments_lexer": "ipython3",
   "version": "3.7.8"
  },
  "varInspector": {
   "cols": {
    "lenName": 16,
    "lenType": 16,
    "lenVar": 40
   },
   "kernels_config": {
    "python": {
     "delete_cmd_postfix": "",
     "delete_cmd_prefix": "del ",
     "library": "var_list.py",
     "varRefreshCmd": "print(var_dic_list())"
    },
    "r": {
     "delete_cmd_postfix": ") ",
     "delete_cmd_prefix": "rm(",
     "library": "var_list.r",
     "varRefreshCmd": "cat(var_dic_list()) "
    }
   },
   "types_to_exclude": [
    "module",
    "function",
    "builtin_function_or_method",
    "instance",
    "_Feature"
   ],
   "window_display": false
  }
 },
 "nbformat": 4,
 "nbformat_minor": 4
}
